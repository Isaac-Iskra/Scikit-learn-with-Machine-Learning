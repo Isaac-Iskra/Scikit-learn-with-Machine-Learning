{
  "nbformat": 4,
  "nbformat_minor": 0,
  "metadata": {
    "colab": {
      "provenance": []
    },
    "kernelspec": {
      "name": "python3",
      "display_name": "Python 3"
    },
    "language_info": {
      "name": "python"
    }
  },
  "cells": [
    {
      "cell_type": "code",
      "execution_count": 2,
      "metadata": {
        "id": "mig9ifxfPpq5"
      },
      "outputs": [],
      "source": [
        "#Often, one of the challenges in machine learning is obtaining sample datesets for experimentation.  \n",
        "#In machine learning, when you are just getting started with an algorithm, \n",
        "#it is often useful to get started with a simple dataset that you can create yourself to test that the algoritm is workin correctly according to your understanding."
      ]
    },
    {
      "cell_type": "code",
      "source": [
        "#Using SciKit-learn dataset\n",
        "\n",
        "from sklearn import datasets\n",
        "iris = datasets.load_iris()"
      ],
      "metadata": {
        "id": "jfQ934ZKQK7H"
      },
      "execution_count": 3,
      "outputs": []
    },
    {
      "cell_type": "code",
      "source": [
        "print(iris.DESCR)"
      ],
      "metadata": {
        "colab": {
          "base_uri": "https://localhost:8080/"
        },
        "id": "EPFI5zvOQXRd",
        "outputId": "cdb1c0d4-b346-4600-d646-3b72822087c1"
      },
      "execution_count": 4,
      "outputs": [
        {
          "output_type": "stream",
          "name": "stdout",
          "text": [
            ".. _iris_dataset:\n",
            "\n",
            "Iris plants dataset\n",
            "--------------------\n",
            "\n",
            "**Data Set Characteristics:**\n",
            "\n",
            "    :Number of Instances: 150 (50 in each of three classes)\n",
            "    :Number of Attributes: 4 numeric, predictive attributes and the class\n",
            "    :Attribute Information:\n",
            "        - sepal length in cm\n",
            "        - sepal width in cm\n",
            "        - petal length in cm\n",
            "        - petal width in cm\n",
            "        - class:\n",
            "                - Iris-Setosa\n",
            "                - Iris-Versicolour\n",
            "                - Iris-Virginica\n",
            "                \n",
            "    :Summary Statistics:\n",
            "\n",
            "    ============== ==== ==== ======= ===== ====================\n",
            "                    Min  Max   Mean    SD   Class Correlation\n",
            "    ============== ==== ==== ======= ===== ====================\n",
            "    sepal length:   4.3  7.9   5.84   0.83    0.7826\n",
            "    sepal width:    2.0  4.4   3.05   0.43   -0.4194\n",
            "    petal length:   1.0  6.9   3.76   1.76    0.9490  (high!)\n",
            "    petal width:    0.1  2.5   1.20   0.76    0.9565  (high!)\n",
            "    ============== ==== ==== ======= ===== ====================\n",
            "\n",
            "    :Missing Attribute Values: None\n",
            "    :Class Distribution: 33.3% for each of 3 classes.\n",
            "    :Creator: R.A. Fisher\n",
            "    :Donor: Michael Marshall (MARSHALL%PLU@io.arc.nasa.gov)\n",
            "    :Date: July, 1988\n",
            "\n",
            "The famous Iris database, first used by Sir R.A. Fisher. The dataset is taken\n",
            "from Fisher's paper. Note that it's the same as in R, but not as in the UCI\n",
            "Machine Learning Repository, which has two wrong data points.\n",
            "\n",
            "This is perhaps the best known database to be found in the\n",
            "pattern recognition literature.  Fisher's paper is a classic in the field and\n",
            "is referenced frequently to this day.  (See Duda & Hart, for example.)  The\n",
            "data set contains 3 classes of 50 instances each, where each class refers to a\n",
            "type of iris plant.  One class is linearly separable from the other 2; the\n",
            "latter are NOT linearly separable from each other.\n",
            "\n",
            ".. topic:: References\n",
            "\n",
            "   - Fisher, R.A. \"The use of multiple measurements in taxonomic problems\"\n",
            "     Annual Eugenics, 7, Part II, 179-188 (1936); also in \"Contributions to\n",
            "     Mathematical Statistics\" (John Wiley, NY, 1950).\n",
            "   - Duda, R.O., & Hart, P.E. (1973) Pattern Classification and Scene Analysis.\n",
            "     (Q327.D83) John Wiley & Sons.  ISBN 0-471-22361-1.  See page 218.\n",
            "   - Dasarathy, B.V. (1980) \"Nosing Around the Neighborhood: A New System\n",
            "     Structure and Classification Rule for Recognition in Partially Exposed\n",
            "     Environments\".  IEEE Transactions on Pattern Analysis and Machine\n",
            "     Intelligence, Vol. PAMI-2, No. 1, 67-71.\n",
            "   - Gates, G.W. (1972) \"The Reduced Nearest Neighbor Rule\".  IEEE Transactions\n",
            "     on Information Theory, May 1972, 431-433.\n",
            "   - See also: 1988 MLC Proceedings, 54-64.  Cheeseman et al\"s AUTOCLASS II\n",
            "     conceptual clustering system finds 3 classes in the data.\n",
            "   - Many, many more ...\n"
          ]
        }
      ]
    },
    {
      "cell_type": "code",
      "source": [
        "print(iris.data)"
      ],
      "metadata": {
        "colab": {
          "base_uri": "https://localhost:8080/"
        },
        "id": "E5C7AplQQjM1",
        "outputId": "188bb778-3062-430b-e781-999588a4799b"
      },
      "execution_count": 5,
      "outputs": [
        {
          "output_type": "stream",
          "name": "stdout",
          "text": [
            "[[5.1 3.5 1.4 0.2]\n",
            " [4.9 3.  1.4 0.2]\n",
            " [4.7 3.2 1.3 0.2]\n",
            " [4.6 3.1 1.5 0.2]\n",
            " [5.  3.6 1.4 0.2]\n",
            " [5.4 3.9 1.7 0.4]\n",
            " [4.6 3.4 1.4 0.3]\n",
            " [5.  3.4 1.5 0.2]\n",
            " [4.4 2.9 1.4 0.2]\n",
            " [4.9 3.1 1.5 0.1]\n",
            " [5.4 3.7 1.5 0.2]\n",
            " [4.8 3.4 1.6 0.2]\n",
            " [4.8 3.  1.4 0.1]\n",
            " [4.3 3.  1.1 0.1]\n",
            " [5.8 4.  1.2 0.2]\n",
            " [5.7 4.4 1.5 0.4]\n",
            " [5.4 3.9 1.3 0.4]\n",
            " [5.1 3.5 1.4 0.3]\n",
            " [5.7 3.8 1.7 0.3]\n",
            " [5.1 3.8 1.5 0.3]\n",
            " [5.4 3.4 1.7 0.2]\n",
            " [5.1 3.7 1.5 0.4]\n",
            " [4.6 3.6 1.  0.2]\n",
            " [5.1 3.3 1.7 0.5]\n",
            " [4.8 3.4 1.9 0.2]\n",
            " [5.  3.  1.6 0.2]\n",
            " [5.  3.4 1.6 0.4]\n",
            " [5.2 3.5 1.5 0.2]\n",
            " [5.2 3.4 1.4 0.2]\n",
            " [4.7 3.2 1.6 0.2]\n",
            " [4.8 3.1 1.6 0.2]\n",
            " [5.4 3.4 1.5 0.4]\n",
            " [5.2 4.1 1.5 0.1]\n",
            " [5.5 4.2 1.4 0.2]\n",
            " [4.9 3.1 1.5 0.2]\n",
            " [5.  3.2 1.2 0.2]\n",
            " [5.5 3.5 1.3 0.2]\n",
            " [4.9 3.6 1.4 0.1]\n",
            " [4.4 3.  1.3 0.2]\n",
            " [5.1 3.4 1.5 0.2]\n",
            " [5.  3.5 1.3 0.3]\n",
            " [4.5 2.3 1.3 0.3]\n",
            " [4.4 3.2 1.3 0.2]\n",
            " [5.  3.5 1.6 0.6]\n",
            " [5.1 3.8 1.9 0.4]\n",
            " [4.8 3.  1.4 0.3]\n",
            " [5.1 3.8 1.6 0.2]\n",
            " [4.6 3.2 1.4 0.2]\n",
            " [5.3 3.7 1.5 0.2]\n",
            " [5.  3.3 1.4 0.2]\n",
            " [7.  3.2 4.7 1.4]\n",
            " [6.4 3.2 4.5 1.5]\n",
            " [6.9 3.1 4.9 1.5]\n",
            " [5.5 2.3 4.  1.3]\n",
            " [6.5 2.8 4.6 1.5]\n",
            " [5.7 2.8 4.5 1.3]\n",
            " [6.3 3.3 4.7 1.6]\n",
            " [4.9 2.4 3.3 1. ]\n",
            " [6.6 2.9 4.6 1.3]\n",
            " [5.2 2.7 3.9 1.4]\n",
            " [5.  2.  3.5 1. ]\n",
            " [5.9 3.  4.2 1.5]\n",
            " [6.  2.2 4.  1. ]\n",
            " [6.1 2.9 4.7 1.4]\n",
            " [5.6 2.9 3.6 1.3]\n",
            " [6.7 3.1 4.4 1.4]\n",
            " [5.6 3.  4.5 1.5]\n",
            " [5.8 2.7 4.1 1. ]\n",
            " [6.2 2.2 4.5 1.5]\n",
            " [5.6 2.5 3.9 1.1]\n",
            " [5.9 3.2 4.8 1.8]\n",
            " [6.1 2.8 4.  1.3]\n",
            " [6.3 2.5 4.9 1.5]\n",
            " [6.1 2.8 4.7 1.2]\n",
            " [6.4 2.9 4.3 1.3]\n",
            " [6.6 3.  4.4 1.4]\n",
            " [6.8 2.8 4.8 1.4]\n",
            " [6.7 3.  5.  1.7]\n",
            " [6.  2.9 4.5 1.5]\n",
            " [5.7 2.6 3.5 1. ]\n",
            " [5.5 2.4 3.8 1.1]\n",
            " [5.5 2.4 3.7 1. ]\n",
            " [5.8 2.7 3.9 1.2]\n",
            " [6.  2.7 5.1 1.6]\n",
            " [5.4 3.  4.5 1.5]\n",
            " [6.  3.4 4.5 1.6]\n",
            " [6.7 3.1 4.7 1.5]\n",
            " [6.3 2.3 4.4 1.3]\n",
            " [5.6 3.  4.1 1.3]\n",
            " [5.5 2.5 4.  1.3]\n",
            " [5.5 2.6 4.4 1.2]\n",
            " [6.1 3.  4.6 1.4]\n",
            " [5.8 2.6 4.  1.2]\n",
            " [5.  2.3 3.3 1. ]\n",
            " [5.6 2.7 4.2 1.3]\n",
            " [5.7 3.  4.2 1.2]\n",
            " [5.7 2.9 4.2 1.3]\n",
            " [6.2 2.9 4.3 1.3]\n",
            " [5.1 2.5 3.  1.1]\n",
            " [5.7 2.8 4.1 1.3]\n",
            " [6.3 3.3 6.  2.5]\n",
            " [5.8 2.7 5.1 1.9]\n",
            " [7.1 3.  5.9 2.1]\n",
            " [6.3 2.9 5.6 1.8]\n",
            " [6.5 3.  5.8 2.2]\n",
            " [7.6 3.  6.6 2.1]\n",
            " [4.9 2.5 4.5 1.7]\n",
            " [7.3 2.9 6.3 1.8]\n",
            " [6.7 2.5 5.8 1.8]\n",
            " [7.2 3.6 6.1 2.5]\n",
            " [6.5 3.2 5.1 2. ]\n",
            " [6.4 2.7 5.3 1.9]\n",
            " [6.8 3.  5.5 2.1]\n",
            " [5.7 2.5 5.  2. ]\n",
            " [5.8 2.8 5.1 2.4]\n",
            " [6.4 3.2 5.3 2.3]\n",
            " [6.5 3.  5.5 1.8]\n",
            " [7.7 3.8 6.7 2.2]\n",
            " [7.7 2.6 6.9 2.3]\n",
            " [6.  2.2 5.  1.5]\n",
            " [6.9 3.2 5.7 2.3]\n",
            " [5.6 2.8 4.9 2. ]\n",
            " [7.7 2.8 6.7 2. ]\n",
            " [6.3 2.7 4.9 1.8]\n",
            " [6.7 3.3 5.7 2.1]\n",
            " [7.2 3.2 6.  1.8]\n",
            " [6.2 2.8 4.8 1.8]\n",
            " [6.1 3.  4.9 1.8]\n",
            " [6.4 2.8 5.6 2.1]\n",
            " [7.2 3.  5.8 1.6]\n",
            " [7.4 2.8 6.1 1.9]\n",
            " [7.9 3.8 6.4 2. ]\n",
            " [6.4 2.8 5.6 2.2]\n",
            " [6.3 2.8 5.1 1.5]\n",
            " [6.1 2.6 5.6 1.4]\n",
            " [7.7 3.  6.1 2.3]\n",
            " [6.3 3.4 5.6 2.4]\n",
            " [6.4 3.1 5.5 1.8]\n",
            " [6.  3.  4.8 1.8]\n",
            " [6.9 3.1 5.4 2.1]\n",
            " [6.7 3.1 5.6 2.4]\n",
            " [6.9 3.1 5.1 2.3]\n",
            " [5.8 2.7 5.1 1.9]\n",
            " [6.8 3.2 5.9 2.3]\n",
            " [6.7 3.3 5.7 2.5]\n",
            " [6.7 3.  5.2 2.3]\n",
            " [6.3 2.5 5.  1.9]\n",
            " [6.5 3.  5.2 2. ]\n",
            " [6.2 3.4 5.4 2.3]\n",
            " [5.9 3.  5.1 1.8]]\n"
          ]
        }
      ]
    },
    {
      "cell_type": "code",
      "source": [
        "print(iris.feature_names)"
      ],
      "metadata": {
        "colab": {
          "base_uri": "https://localhost:8080/"
        },
        "id": "QxwiGlVsQmhG",
        "outputId": "e5473460-0fd2-4151-a91b-bc2c0a789b0e"
      },
      "execution_count": 6,
      "outputs": [
        {
          "output_type": "stream",
          "name": "stdout",
          "text": [
            "['sepal length (cm)', 'sepal width (cm)', 'petal length (cm)', 'petal width (cm)']\n"
          ]
        }
      ]
    },
    {
      "cell_type": "code",
      "source": [
        "#Using the Kaggle Dataset\n",
        "\n",
        "#Kaggle is the world's larget community of data scientists and machine learners.  \n",
        "#What started off as a platform for offering machine learning competitions, Kaggle now also offers a public data platform, as well as a clout-based workbench for data scientists."
      ],
      "metadata": {
        "id": "4id99KKMQqjg"
      },
      "execution_count": 7,
      "outputs": []
    },
    {
      "cell_type": "code",
      "source": [
        "#Geneating your own Dataset\n",
        "\n",
        "%matplotlib inline \n",
        "from matplotlib import pyplot as plt \n",
        "from sklearn.datasets import make_regression\n",
        "\n",
        "X, y = make_regression(n_samples=100, n_features=1, noise=5.4)\n",
        "plt.scatter(X,y)"
      ],
      "metadata": {
        "colab": {
          "base_uri": "https://localhost:8080/",
          "height": 282
        },
        "id": "FUQVkUqOREu7",
        "outputId": "97cdc2e5-a920-4f47-964b-1d6829517358"
      },
      "execution_count": 8,
      "outputs": [
        {
          "output_type": "execute_result",
          "data": {
            "text/plain": [
              "<matplotlib.collections.PathCollection at 0x7fc5ea3bfe90>"
            ]
          },
          "metadata": {},
          "execution_count": 8
        },
        {
          "output_type": "display_data",
          "data": {
            "text/plain": [
              "<Figure size 432x288 with 1 Axes>"
            ],
            "image/png": "[encoded data removed]"
          },
          "metadata": {
            "needs_background": "light"
          }
        }
      ]
    },
    {
      "cell_type": "code",
      "source": [
        "#Clustered Dataset\n",
        "\n",
        "#The make_blobs() function generates n number of clusters of random data.  This is very useful when performing clustering inunsupervised learning.\n",
        "\n",
        "%matplotlib inline\n",
        "import matplotlib.pyplot as plt\n",
        "import numpy as np\n",
        "from sklearn.datasets import make_blobs\n",
        "\n",
        "X, y = make_blobs(500, centers=3)\n",
        "\n",
        "rgb = np.array(['r', 'g', 'b'])\n",
        "\n",
        "# plot the blobs using a scatter plot and use color coding\n",
        "\n",
        "plt.scatter(X[:, 0], X[:, 1], color=rgb[y])"
      ],
      "metadata": {
        "colab": {
          "base_uri": "https://localhost:8080/",
          "height": 282
        },
        "id": "DMsOfMB8RrDH",
        "outputId": "1d2940f3-778b-4e24-cbf6-2896893100c7"
      },
      "execution_count": 9,
      "outputs": [
        {
          "output_type": "execute_result",
          "data": {
            "text/plain": [
              "<matplotlib.collections.PathCollection at 0x7fc5ea3c8350>"
            ]
          },
          "metadata": {},
          "execution_count": 9
        },
        {
          "output_type": "display_data",
          "data": {
            "text/plain": [
              "<Figure size 432x288 with 1 Axes>"
            ],
            "image/png": "[encoded data removed]"
          },
          "metadata": {
            "needs_background": "light"
          }
        }
      ]
    },
    {
      "cell_type": "code",
      "source": [
        "#Clustered Dataset Distributed in Circular Fashion\n",
        "\n",
        "#The make_circles() function generates a random dataset containing a large circle embedding a smaller circle in two dimensions.\n",
        "#This is useful when performing classifications, using algorithms like SVM (Support Vector Machines)\n",
        "\n",
        "%matplotlib inline\n",
        "import matplotlib.pyplot as plt\n",
        "import numpy as np\n",
        "from sklearn.datasets import make_circles\n",
        "\n",
        "X, y = make_circles(n_samples=100, noise=0.09)\n",
        "\n",
        "rgb = np.array(['r', 'g', 'b'])\n",
        "plt.scatter(X[:, 0], X[:, 1], color=rgb[y])"
      ],
      "metadata": {
        "colab": {
          "base_uri": "https://localhost:8080/",
          "height": 282
        },
        "id": "0SFpT8YbTbu7",
        "outputId": "35805443-e56f-49f6-86cd-fbe8cbdc9a92"
      },
      "execution_count": 10,
      "outputs": [
        {
          "output_type": "execute_result",
          "data": {
            "text/plain": [
              "<matplotlib.collections.PathCollection at 0x7fc5ea2d9410>"
            ]
          },
          "metadata": {},
          "execution_count": 10
        },
        {
          "output_type": "display_data",
          "data": {
            "text/plain": [
              "<Figure size 432x288 with 1 Axes>"
            ],
            "image/png": "[encoded data removed]"
          },
          "metadata": {
            "needs_background": "light"
          }
        }
      ]
    },
    {
      "cell_type": "code",
      "source": [
        "#Getting Started with SciKit Learn\n",
        "\n",
        "#The easiest way to get started with machine learning with SciKit-learn is to to start with liner regression.  \n",
        "#Linear regression is a linear approach for modelng the relationship between a scalar dependedt variable y and one or more explanatory values.\n",
        "\n",
        "%matplotlib inline\n",
        "import matplotlib.pyplot as plt\n",
        "\n",
        "#represents the heights of a group of people in meters\n",
        "heights = [[1.6], [1.65], [1.7], [1.73], [1.8]]\n",
        "\n",
        "#represents the weights of a group of people in kgs\n",
        "weights = [[60], [65], [73.2], [75], [80]]\n",
        "\n",
        "plt.title('Weights plotted against heights')\n",
        "plt.xlabel('Heights in meters')\n",
        "plt.ylabel('Weights ni kilograms')\n",
        "\n",
        "plt.plot(heights, weights, 'k.')\n",
        "\n",
        "#axis range for x and y\n",
        "\n",
        "plt.axis([1.5, 1.85, 50, 90])\n",
        "plt.grid(True)"
      ],
      "metadata": {
        "colab": {
          "base_uri": "https://localhost:8080/",
          "height": 295
        },
        "id": "yU_XM3lzUirk",
        "outputId": "e269863c-5e15-42e2-ee07-e06219546c2d"
      },
      "execution_count": 11,
      "outputs": [
        {
          "output_type": "display_data",
          "data": {
            "text/plain": [
              "<Figure size 432x288 with 1 Axes>"
            ],
            "image/png": "[encoded data removed]"
          },
          "metadata": {
            "needs_background": "light"
          }
        }
      ]
    },
    {
      "cell_type": "code",
      "source": [
        "#Using Linear Regression Class for Fitting the Model\n",
        "\n",
        "#So how do we draw the straight line taht cuts through all of the points?\n",
        "#It turns out that the Scikit-learn library has the LinearRegression class that helps you to do just that.\n",
        "#All you need to do is to create an instance of this class and use the heights and weights lists to create a linear regression model using the fit() function, like this:\n",
        "from sklearn.linear_model import LinearRegression\n",
        "\n",
        "#Create and Fit the model\n",
        "model = LinearRegression()\n",
        "model.fit(X=heights, y=weights)"
      ],
      "metadata": {
        "colab": {
          "base_uri": "https://localhost:8080/"
        },
        "id": "oma_7AsCZ9FU",
        "outputId": "77b40d37-75ba-4ef2-fa63-ee0de56b9a9e"
      },
      "execution_count": 12,
      "outputs": [
        {
          "output_type": "execute_result",
          "data": {
            "text/plain": [
              "LinearRegression()"
            ]
          },
          "metadata": {},
          "execution_count": 12
        }
      ]
    },
    {
      "cell_type": "code",
      "source": [
        "#Making Predictions\n",
        "\n",
        "#Once you have fitted (trained) the model, you can start to make predicions using the predict() function, like this:\n",
        "\n",
        "#make predictions\n",
        "weight = model.predict([[1.75]]) [0] [0]\n",
        "print(round(weight,2))"
      ],
      "metadata": {
        "colab": {
          "base_uri": "https://localhost:8080/"
        },
        "id": "taJjD3s7aoZe",
        "outputId": "1d340d10-5e0c-46eb-b7cd-a9db6373cd62"
      },
      "execution_count": 13,
      "outputs": [
        {
          "output_type": "stream",
          "name": "stdout",
          "text": [
            "76.23\n"
          ]
        }
      ]
    },
    {
      "cell_type": "code",
      "source": [
        "#Plotting the Linear Regression Line\n",
        "\n",
        "#It would be useful to visualize the linear regression line that has been created.  The following code snippet shows how this is done:\n",
        "\n",
        "import matplotlib.pyplot as plt\n",
        "\n",
        "heights = [[1.6], [1.65], [1.7], [1.73], [1.8]]\n",
        "weights = [[60], [65], [73.2], [75], [80]]\n",
        "\n",
        "plt.title('Weights plotted against heights')\n",
        "plt.xlabel('Heights in meters')\n",
        "plt.ylabel('Weights in Kilograms')\n",
        "\n",
        "plt.plot(heights, weights, 'k.')\n",
        "\n",
        "plt.axis([1.5, 1.85, 50, 90])\n",
        "plt.grid(True)\n",
        "\n",
        "#plot the regression line\n",
        "plt.plot(heights, model.predict(heights), color='r')"
      ],
      "metadata": {
        "id": "49SUGn5SbdDQ",
        "colab": {
          "base_uri": "https://localhost:8080/",
          "height": 312
        },
        "outputId": "70e2e433-13b7-45f8-e434-e91f049db0d5"
      },
      "execution_count": 14,
      "outputs": [
        {
          "output_type": "execute_result",
          "data": {
            "text/plain": [
              "[<matplotlib.lines.Line2D at 0x7fc5e9ccc310>]"
            ]
          },
          "metadata": {},
          "execution_count": 14
        },
        {
          "output_type": "display_data",
          "data": {
            "text/plain": [
              "<Figure size 432x288 with 1 Axes>"
            ],
            "image/png": "[encoded data removed]"
          },
          "metadata": {
            "needs_background": "light"
          }
        }
      ]
    },
    {
      "cell_type": "code",
      "source": [
        "#Getting the Gradient and Intercept of the Linear Regression Line\n",
        "\n",
        "#A better way to visualize this line would be to set the x-axis to start from 0 and enlarge the range of the y-axis.  You then plot the line by feeding in two extreme values of the height:0 and 1.8.\n",
        "#The following code re-plots and linear regression line:\n",
        "\n",
        "plt.title('Weights plotted against heights')\n",
        "plt.xlabel('Heights in meters')\n",
        "plt.ylabel('Weights in kilograms')\n",
        "\n",
        "plt.plot(heights, weights, 'k.')\n",
        "\n",
        "plt.axis([0, 1.8, -200, 200])\n",
        "plt.grid(True)\n",
        "\n",
        "#Plot the regression line\n",
        "\n",
        "extreme_heights = [[0], [1.8]]\n",
        "plt.plot(extreme_heights, model.predict(extreme_heights), color='b')"
      ],
      "metadata": {
        "colab": {
          "base_uri": "https://localhost:8080/",
          "height": 312
        },
        "id": "7aSo-PgozDUa",
        "outputId": "2e909d03-7176-4b72-8ced-49fb67c72cb0"
      },
      "execution_count": 16,
      "outputs": [
        {
          "output_type": "execute_result",
          "data": {
            "text/plain": [
              "[<matplotlib.lines.Line2D at 0x7fc5e8cc2890>]"
            ]
          },
          "metadata": {},
          "execution_count": 16
        },
        {
          "output_type": "display_data",
          "data": {
            "text/plain": [
              "<Figure size 432x288 with 1 Axes>"
            ],
            "image/png": "[encoded data removed]"
          },
          "metadata": {
            "needs_background": "light"
          }
        }
      ]
    },
    {
      "cell_type": "code",
      "source": [
        "#Examining the Performance of the Model by Calculating the Residual Sum of Squares\n",
        "\n",
        "#To know if your linear regression line is well fitted to all of the data points, we use the Residual Sum of Squares method. \n",
        "#The following code snippet shows how the RSS is calculated in Python:\n",
        "\n",
        "import numpy as np\n",
        "\n",
        "print('Residual sum of squares: %.2f' %\n",
        "      np.sum((weights - model.predict(heights)) **2))"
      ],
      "metadata": {
        "colab": {
          "base_uri": "https://localhost:8080/"
        },
        "id": "76a5R5u80Kva",
        "outputId": "01e5756c-d449-47c0-9d54-6b830ff2a0dd"
      },
      "execution_count": 19,
      "outputs": [
        {
          "output_type": "stream",
          "name": "stdout",
          "text": [
            "Residual sum of squares: 8.55\n"
          ]
        }
      ]
    },
    {
      "cell_type": "code",
      "source": [
        "#Evaluating the Model Using a Test Dataset\n",
        "\n",
        "#Now that our model is tarined with our training data, we can put int to the test.\n",
        "#Assume that we have the following dataset:\n",
        "\n",
        "heights_test = [[1.58], [1.62], [1.69], [1.76], [1.82]]\n",
        "weights_test = [[58], [63], [72], [73], [85]]\n",
        "\n",
        "#We can measure how closely the test data fits the regression line using the R-Squared method.\n",
        "#We can calculate this in python with the following code:\n",
        "\n",
        "#total sum of squares\n",
        "weights_test_mean = np.mean(np.ravel(weights_test))\n",
        "TSS = np.sum((np.ravel(weights_test) - weights_test_mean) **2)\n",
        "\n",
        "print(\"TSS: %.2f\" % TSS)\n",
        "\n",
        "#Residual Sum of Squares\n",
        "RSS = np.sum((np.ravel(weights_test) - np.ravel(model.predict(heights_test))) **2)\n",
        "\n",
        "print(\"RSS: .2f\" % RSS)\n",
        "\n",
        "#R_squared\n",
        "R_squared = 1 - (RSS/TSS)\n",
        "print(\"R-squared: %.2f\" % R_squared)"
      ],
      "metadata": {
        "colab": {
          "base_uri": "https://localhost:8080/"
        },
        "id": "NNG5VD7Z1Ghs",
        "outputId": "bb850e02-fbe4-4f08-c68d-f0029eb091f4"
      },
      "execution_count": 20,
      "outputs": [
        {
          "output_type": "stream",
          "name": "stdout",
          "text": [
            "TSS: 430.80\n",
            "RSS: .2f\n",
            "R-squared: 0.94\n"
          ]
        }
      ]
    },
    {
      "cell_type": "code",
      "source": [
        "#Fortunately, you don't have to calculate the R-Squared manually yourself.  Scikit-learn has the score() function to calculate it for you automatically.\n",
        "\n",
        "print('R-squared: %.4f' % model.score(heights_test, weights_test))"
      ],
      "metadata": {
        "colab": {
          "base_uri": "https://localhost:8080/"
        },
        "id": "j7i_-RSj3PYF",
        "outputId": "b41d1726-54a9-4ca0-c6b8-42e01710a28d"
      },
      "execution_count": 21,
      "outputs": [
        {
          "output_type": "stream",
          "name": "stdout",
          "text": [
            "R-squared: 0.9422\n"
          ]
        }
      ]
    },
    {
      "cell_type": "code",
      "source": [
        "#An R-Squared score of 94.92% indicates a pretty good fit for your test data."
      ],
      "metadata": {
        "id": "tp8WAzyK3ohV"
      },
      "execution_count": null,
      "outputs": []
    },
    {
      "cell_type": "code",
      "source": [
        "#Data Cleansing\n",
        "\n",
        "#In Machine Learning, one of the first tasks that you need to perform is data cleansing.  Very seldom would you have a dataset that you can use straightaway to train your model.\n",
        "#Instead, you would have to examine the data carefully for any missing values and either remove them or replace them with some valid avlues, or you have to normalize them if there are columns with wildly different values.\n",
        "\n",
        "#Cleaning Rows with NaNs\n",
        "\n",
        "#Consider a CSV file with the followig file named NaNDataset.csv\n",
        "#Visually you can spot there are a few rows that have missing values.  We can check for null values with isnull(), as follows:\n",
        "\n",
        "import pandas as pd\n",
        "df = pd.read_csv('NaNDataset.csv')\n",
        "df.isnull().sum()\n",
        "\n"
      ],
      "metadata": {
        "colab": {
          "base_uri": "https://localhost:8080/"
        },
        "id": "FAJuYSpA4mKt",
        "outputId": "b641fe7c-379d-4364-f6c9-821f27939295"
      },
      "execution_count": 27,
      "outputs": [
        {
          "output_type": "execute_result",
          "data": {
            "text/plain": [
              "A    0\n",
              "B    2\n",
              "C    0\n",
              "dtype: int64"
            ]
          },
          "metadata": {},
          "execution_count": 27
        }
      ]
    },
    {
      "cell_type": "code",
      "source": [
        "#Replacing NaN with the Mean of the Column\n",
        "\n",
        "#One of the ways to deal with NaNs in your dataset is to replace them with the mean of the columns in which they are located.\n",
        "\n",
        "df.B = df.B.fillna(df.B.mean())\n",
        "print(df)"
      ],
      "metadata": {
        "colab": {
          "base_uri": "https://localhost:8080/"
        },
        "id": "jJWbH9AfXdqv",
        "outputId": "6bec4466-5b2b-43d3-82f3-33ec07eb929a"
      },
      "execution_count": 29,
      "outputs": [
        {
          "output_type": "stream",
          "name": "stdout",
          "text": [
            "    A     B   C\n",
            "0   1   2.0   3\n",
            "1   4  11.0   6\n",
            "2   7  11.0   9\n",
            "3  10  11.0  12\n",
            "4  13  14.0  15\n",
            "5  16  17.0  18\n"
          ]
        }
      ]
    },
    {
      "cell_type": "code",
      "source": [
        "#Removing Rows\n",
        "\n",
        "#Another way to deal with NaNs in your dataset is simply to remove the rows containing them.  You can do so using the dropna() function, like this:\n",
        "\n",
        "df = pd.read_csv('NaNDataset.csv')\n",
        "df = df.dropna()\n",
        "print(df)"
      ],
      "metadata": {
        "colab": {
          "base_uri": "https://localhost:8080/"
        },
        "id": "yDoIibDLYMga",
        "outputId": "819c6ea2-30b8-4c1d-f2b0-d3f6964c5b0e"
      },
      "execution_count": 30,
      "outputs": [
        {
          "output_type": "stream",
          "name": "stdout",
          "text": [
            "    A     B   C\n",
            "0   1   2.0   3\n",
            "3  10  11.0  12\n",
            "4  13  14.0  15\n",
            "5  16  17.0  18\n"
          ]
        }
      ]
    },
    {
      "cell_type": "code",
      "source": [
        "df = df.reset_index(drop=True)\n",
        "print(df)"
      ],
      "metadata": {
        "colab": {
          "base_uri": "https://localhost:8080/"
        },
        "id": "nX1WRvp2b2y8",
        "outputId": "20e1aa5f-3eec-409a-aa85-82f4c50dae78"
      },
      "execution_count": 31,
      "outputs": [
        {
          "output_type": "stream",
          "name": "stdout",
          "text": [
            "    A     B   C\n",
            "0   1   2.0   3\n",
            "1  10  11.0  12\n",
            "2  13  14.0  15\n",
            "3  16  17.0  18\n"
          ]
        }
      ]
    },
    {
      "cell_type": "code",
      "source": [
        "#Removing Duplicate Rows\n",
        "\n",
        "#Consider a CSV file named DuplicateRows.csv\n",
        "\n",
        "#To fined all the duplicated rows, first load the dataset into a dataframe and then use the duplicaetd() function, like this:\n",
        "\n",
        "import pandas as pd\n",
        "df = pd.read_csv('DuplicateRows.csv')\n",
        "print(df.duplicated(keep=False))"
      ],
      "metadata": {
        "colab": {
          "base_uri": "https://localhost:8080/"
        },
        "id": "jQuFbhB-cMbr",
        "outputId": "1b4c9cc5-3196-4d24-cef1-b48c185cdd58"
      },
      "execution_count": 32,
      "outputs": [
        {
          "output_type": "stream",
          "name": "stdout",
          "text": [
            "0    False\n",
            "1     True\n",
            "2     True\n",
            "3    False\n",
            "4    False\n",
            "5     True\n",
            "6     True\n",
            "7    False\n",
            "8    False\n",
            "dtype: bool\n"
          ]
        }
      ]
    },
    {
      "cell_type": "code",
      "source": [
        "print(df[df.duplicated(keep=False)])"
      ],
      "metadata": {
        "colab": {
          "base_uri": "https://localhost:8080/"
        },
        "id": "Hkbr_aAbe47l",
        "outputId": "3248e265-c80d-4796-cd21-c1e790516103"
      },
      "execution_count": 34,
      "outputs": [
        {
          "output_type": "stream",
          "name": "stdout",
          "text": [
            "    A   B   C\n",
            "1   4   5   6\n",
            "2   4   5   6\n",
            "5  10  11  12\n",
            "6  10  11  12\n"
          ]
        }
      ]
    },
    {
      "cell_type": "code",
      "source": [
        "#To remove all duplicates, set the keep parameter to False.  To kee pthe last occurence of duplicate rows, set the keep parameter to last."
      ],
      "metadata": {
        "id": "HDwc9NLefE2s"
      },
      "execution_count": null,
      "outputs": []
    },
    {
      "cell_type": "code",
      "source": [
        "#You can remove duplicates in certain columns by specifying the subset parameter:\n",
        "df.drop_duplicates(subset=['A', 'C'], keep='last', inplace=True)\n",
        "print(df)\n"
      ],
      "metadata": {
        "colab": {
          "base_uri": "https://localhost:8080/"
        },
        "id": "RpsMvZfafUZH",
        "outputId": "3cf2dbb8-9e2d-4ac6-e90f-2e16731719cd"
      },
      "execution_count": 36,
      "outputs": [
        {
          "output_type": "stream",
          "name": "stdout",
          "text": [
            "    A   B   C\n",
            "0   1   2   2\n",
            "2   4   5   6\n",
            "4   7  18   9\n",
            "6  10  11  12\n",
            "7  13  14  15\n",
            "8  16  17  18\n"
          ]
        }
      ]
    },
    {
      "cell_type": "code",
      "source": [
        "#Normalizing Columns\n",
        "\n",
        "#Normalization is a techniue often applied during the data cleansing process.  \n",
        "#The aim of normalization is to change the values of numeric columns in the dataset to use a common scale, without modifying the differenes in the ranges of values.\n",
        "\n",
        "#The following code snippet will scale all the columns' values to the (0,1) range:\n",
        "\n",
        "import pandas as pd\n",
        "from sklearn import preprocessing\n",
        "\n",
        "df = pd.read_csv('Normalizing Columns.csv')\n",
        "x = df.values.astype(float)\n",
        "\n",
        "min_max_scaler = preprocessing.MinMaxScaler()\n",
        "x_scaled = min_max_scaler.fit_transform(x)\n",
        "df = pd.DataFrame(x_scaled, columns=df.columns)\n",
        "print(df)"
      ],
      "metadata": {
        "colab": {
          "base_uri": "https://localhost:8080/"
        },
        "id": "VA7lhGUHfo3A",
        "outputId": "878cc53a-48c3-454b-8c14-f0551671ccd0"
      },
      "execution_count": 38,
      "outputs": [
        {
          "output_type": "stream",
          "name": "stdout",
          "text": [
            "     A         B    C\n",
            "0  0.6  0.000000  0.0\n",
            "1  0.2  0.200000  0.2\n",
            "2  0.4  0.266667  0.4\n",
            "3  0.0  0.600000  0.6\n",
            "4  0.8  0.800000  0.8\n",
            "5  1.0  1.000000  1.0\n"
          ]
        }
      ]
    },
    {
      "cell_type": "code",
      "source": [
        "#Removing Outliers\n",
        "\n",
        "#In statistics, an outlier is a point that is distant from other observed points.  \n",
        "#There are a number of techniques to remove outliers, and ni this chapter we discuss Turkey Fences and Z-Score.\n",
        "\n",
        "#Turkey Fences is based on interquartile Range.  IQR is the difference between the first and third quartiles of a set of values.  \n",
        "#The first quartile Q1 is the value in the dataset that holds 25% of the values below it. \n",
        "#The third quartile Q3 is the value in the dataset that holds 25% of the values above it.  \n",
        "#so, IQR = Q3-Q1\n",
        "\n",
        "#The following is using Turkey Fences in Python:\n",
        "import numpy as np\n",
        "\n",
        "def outliers_iqr(data):\n",
        "  q1, q3 = np.percentile(data, [25, 75])\n",
        "  iqr = q3 - q1\n",
        "  lower_bound = q1 - (iqr * 1.5)\n",
        "  upper_bound = q3 + (iqr * 1.5)\n",
        "  return np.where((data > upper_bound) | (data < lower_bound))\n",
        "\n",
        "import pandas as pd\n",
        "\n",
        "df = pd.read_csv(\"http://www.mosaic-web.org/go/datasets/galton.csv\")\n",
        "print(df.head())"
      ],
      "metadata": {
        "colab": {
          "base_uri": "https://localhost:8080/"
        },
        "id": "0v-jBWBRhHQU",
        "outputId": "ffcc1470-aef6-4701-82a8-30be26952cd5"
      },
      "execution_count": 39,
      "outputs": [
        {
          "output_type": "stream",
          "name": "stdout",
          "text": [
            "  family  father  mother sex  height  nkids\n",
            "0      1    78.5    67.0   M    73.2      4\n",
            "1      1    78.5    67.0   F    69.2      4\n",
            "2      1    78.5    67.0   F    69.0      4\n",
            "3      1    78.5    67.0   F    69.0      4\n",
            "4      2    75.5    66.5   M    73.5      4\n"
          ]
        }
      ]
    },
    {
      "cell_type": "code",
      "source": [
        "print(\"Outliers using outliers_iqr()\")\n",
        "print(\"=============================\")\n",
        "for i in outliers_iqr(df.height) [0]:\n",
        "  print(df[i:i+1])"
      ],
      "metadata": {
        "colab": {
          "base_uri": "https://localhost:8080/"
        },
        "id": "29W64TFbi8gF",
        "outputId": "c1699eaf-e24d-43a5-8c8a-5d15c3a6c26f"
      },
      "execution_count": 40,
      "outputs": [
        {
          "output_type": "stream",
          "name": "stdout",
          "text": [
            "Outliers using outliers_iqr()\n",
            "=============================\n",
            "    family  father  mother sex  height  nkids\n",
            "288     72    70.0    65.0   M    79.0      7\n"
          ]
        }
      ]
    },
    {
      "cell_type": "code",
      "source": [
        "#Z-Score \n",
        "\n",
        "#The second method indicates how many standard deviations a datapoint is from the mean.\n",
        "\n",
        "#The following code denotes how to use Z-Score using Python:\n",
        "\n",
        "def outliers_z_score(data):\n",
        "  threshold = 3\n",
        "  mean = np.mean(data)\n",
        "  std = np.std(data)\n",
        "  z_scores = [(y - mean) / std for y in data]\n",
        "  return np.where(np.abs(z_scores) > threshold)"
      ],
      "metadata": {
        "id": "FiTkS6F8jQfi"
      },
      "execution_count": 41,
      "outputs": []
    },
    {
      "cell_type": "code",
      "source": [
        "#You can now find the outliers in the dataset\n",
        "\n",
        "print(\"Outliers usig outliers_z_score()\")\n",
        "print(\"================================\")\n",
        "for i in outliers_z_score(df.height) [0]:\n",
        "  print(df[i:i+1])\n",
        "print()"
      ],
      "metadata": {
        "colab": {
          "base_uri": "https://localhost:8080/"
        },
        "id": "abMw_k0ekHgf",
        "outputId": "ce7bbf0c-273d-42fb-b5c4-645d0b654747"
      },
      "execution_count": 42,
      "outputs": [
        {
          "output_type": "stream",
          "name": "stdout",
          "text": [
            "Outliers usig outliers_z_score()\n",
            "================================\n",
            "    family  father  mother sex  height  nkids\n",
            "125     35    71.0    69.0   M    78.0      5\n",
            "    family  father  mother sex  height  nkids\n",
            "288     72    70.0    65.0   M    79.0      7\n",
            "    family  father  mother sex  height  nkids\n",
            "672    155    68.0    60.0   F    56.0      7\n",
            "\n"
          ]
        }
      ]
    },
    {
      "cell_type": "code",
      "source": [
        "#Using the Z-Method, you can see that the height column has three outliers."
      ],
      "metadata": {
        "id": "mnu_vLD8khIP"
      },
      "execution_count": null,
      "outputs": []
    },
    {
      "cell_type": "code",
      "source": [],
      "metadata": {
        "id": "h1RJiwnakn7E"
      },
      "execution_count": null,
      "outputs": []
    }
  ]
}